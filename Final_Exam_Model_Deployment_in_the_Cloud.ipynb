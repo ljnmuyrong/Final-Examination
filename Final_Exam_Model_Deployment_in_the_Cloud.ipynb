{
  "cells": [
    {
      "cell_type": "markdown",
      "metadata": {
        "id": "view-in-github",
        "colab_type": "text"
      },
      "source": [
        "<a href=\"https://colab.research.google.com/github/ljnmuyrong/Final-Examination/blob/main/Final_Exam_Model_Deployment_in_the_Cloud.ipynb\" target=\"_parent\"><img src=\"https://colab.research.google.com/assets/colab-badge.svg\" alt=\"Open In Colab\"/></a>"
      ]
    },
    {
      "cell_type": "markdown",
      "metadata": {
        "id": "zfPQx6HnCTZZ"
      },
      "source": [
        "Final Exam: Model Deployment in the Cloud\n",
        "\n",
        "Muyrong\n",
        "\n",
        "Caberte\n",
        "\n"
      ]
    },
    {
      "cell_type": "code",
      "execution_count": 5,
      "metadata": {
        "id": "l2srhY01CTP2"
      },
      "outputs": [],
      "source": [
        "import os\n",
        "import pandas as pd\n",
        "import numpy as np\n",
        "import matplotlib.pyplot as plt\n",
        "import seaborn as sns\n",
        "import tensorflow as tf\n",
        "from tensorflow import keras\n",
        "from keras.layers import Flatten, Dense, Activation, Dropout, BatchNormalization\n",
        "from sklearn.model_selection import train_test_split\n",
        "from keras import models, regularizers, optimizers\n",
        "from keras.models import Sequential\n",
        "from keras.constraints import MaxNorm\n",
        "from keras import layers, models\n",
        "from keras.callbacks import ModelCheckpoint\n",
        "from keras.optimizers import SGD\n",
        "from keras.preprocessing.image import ImageDataGenerator\n",
        "from keras.optimizers import Adam, Adamax\n",
        "from keras.models import model_from_json\n",
        "from PIL import Image\n",
        "from keras.regularizers import l2\n",
        "from keras.layers import Conv2D, MaxPooling2D, Flatten, Dense, Dropout\n",
        "from keras.applications.vgg16 import VGG16, preprocess_input\n",
        "from keras.applications import VGG16\n",
        "from keras.applications.vgg16 import VGG16, preprocess_input\n",
        "from keras.callbacks import ModelCheckpoint\n",
        "from keras.applications import DenseNet121\n",
        "from keras.applications.densenet import DenseNet121, preprocess_input"
      ]
    },
    {
      "cell_type": "code",
      "execution_count": 6,
      "metadata": {
        "id": "PM6-9iJKCxtk",
        "colab": {
          "base_uri": "https://localhost:8080/"
        },
        "outputId": "9ad04a67-6e46-4088-beaa-44d785092fcd"
      },
      "outputs": [
        {
          "output_type": "stream",
          "name": "stdout",
          "text": [
            "Drive already mounted at /content/drive; to attempt to forcibly remount, call drive.mount(\"/content/drive\", force_remount=True).\n"
          ]
        }
      ],
      "source": [
        "from google.colab import drive\n",
        "drive.mount('/content/drive')"
      ]
    },
    {
      "cell_type": "code",
      "execution_count": 7,
      "metadata": {
        "id": "hAXpJ7mWDQTS"
      },
      "outputs": [],
      "source": [
        "dataset_dir = '/content/drive/MyDrive/Data'\n",
        "data_paths = []\n",
        "labels = []\n",
        "\n",
        "main_dirs = os.listdir(dataset_dir)\n",
        "for folder_name in main_dirs:\n",
        "    folder_path = os.path.join(dataset_dir, folder_name)\n",
        "    files = os.listdir(folder_path)\n",
        "    for file in files:\n",
        "        file_path = os.path.join(folder_path, file)\n",
        "        data_paths.append(file_path)\n",
        "        labels.append(folder_name)"
      ]
    },
    {
      "cell_type": "code",
      "execution_count": 8,
      "metadata": {
        "id": "NddntnIzD9uq"
      },
      "outputs": [],
      "source": [
        "batch_size = 16\n",
        "image_size = (150, 150)\n",
        "num_channels = 3\n",
        "image_shape = (image_size[0], image_size[1], num_channels)\n",
        "\n",
        "data_dirs = pd.Series(data_paths, name='data_dir')\n",
        "classes = pd.Series(labels, name='class')\n",
        "dataframe = pd.concat([data_dirs, classes], axis=1)\n",
        "\n",
        "def preprocess_image(img):\n",
        "    return img"
      ]
    },
    {
      "cell_type": "code",
      "execution_count": 9,
      "metadata": {
        "id": "RCWubEnREBa4",
        "colab": {
          "base_uri": "https://localhost:8080/"
        },
        "outputId": "5c82d919-a8ec-4053-a3e1-b29255f2c311"
      },
      "outputs": [
        {
          "output_type": "stream",
          "name": "stdout",
          "text": [
            "Found 371 validated image filenames belonging to 4 classes.\n",
            "Found 44 validated image filenames belonging to 4 classes.\n",
            "Found 46 validated image filenames belonging to 4 classes.\n"
          ]
        },
        {
          "output_type": "stream",
          "name": "stderr",
          "text": [
            "/usr/local/lib/python3.10/dist-packages/keras/src/preprocessing/image.py:1137: UserWarning: Found 13 invalid image filename(s) in x_col=\"data_dir\". These filename(s) will be ignored.\n",
            "  warnings.warn(\n",
            "/usr/local/lib/python3.10/dist-packages/keras/src/preprocessing/image.py:1137: UserWarning: Found 4 invalid image filename(s) in x_col=\"data_dir\". These filename(s) will be ignored.\n",
            "  warnings.warn(\n",
            "/usr/local/lib/python3.10/dist-packages/keras/src/preprocessing/image.py:1137: UserWarning: Found 2 invalid image filename(s) in x_col=\"data_dir\". These filename(s) will be ignored.\n",
            "  warnings.warn(\n"
          ]
        }
      ],
      "source": [
        "train_df, val_test_df = train_test_split(dataframe, train_size=0.8, shuffle=True, random_state=123)\n",
        "val_df, test_df = train_test_split(val_test_df, train_size=0.5, shuffle=True, random_state=123)\n",
        "\n",
        "datagen = ImageDataGenerator(preprocessing_function=preprocess_image, rescale=1.0/255)\n",
        "train_generator = datagen.flow_from_dataframe(train_df, x_col='data_dir', y_col='class',\n",
        "                                              target_size=image_size, class_mode='categorical',\n",
        "                                              color_mode='rgb', shuffle=True, batch_size=batch_size)\n",
        "valid_generator = datagen.flow_from_dataframe(val_df, x_col='data_dir', y_col='class',\n",
        "                                              target_size=image_size, class_mode='categorical',\n",
        "                                              color_mode='rgb', shuffle=True, batch_size=batch_size)\n",
        "test_generator = datagen.flow_from_dataframe(test_df, x_col='data_dir', y_col='class',\n",
        "                                             target_size=image_size, class_mode='categorical',\n",
        "                                             color_mode='rgb', shuffle=True, batch_size=batch_size)"
      ]
    },
    {
      "cell_type": "code",
      "execution_count": 10,
      "metadata": {
        "id": "7Ozf5lvPEGiR",
        "colab": {
          "base_uri": "https://localhost:8080/"
        },
        "outputId": "f7d7d0f6-7e02-4876-a717-32b02f4113a3"
      },
      "outputs": [
        {
          "output_type": "stream",
          "name": "stdout",
          "text": [
            "{'Dinosaur': 0, 'Flag': 1, 'airplane': 2, 'puppy': 3}\n",
            "                                              data_dir  class\n",
            "0         /content/drive/MyDrive/Data/puppy/vector.svg  puppy\n",
            "1        /content/drive/MyDrive/Data/puppy/vector3.svg  puppy\n",
            "2        /content/drive/MyDrive/Data/puppy/vector2.svg  puppy\n",
            "3        /content/drive/MyDrive/Data/puppy/vector5.svg  puppy\n",
            "4        /content/drive/MyDrive/Data/puppy/vector4.svg  puppy\n",
            "..                                                 ...    ...\n",
            "475       /content/drive/MyDrive/Data/Flag/AN-flag.jpg   Flag\n",
            "476  /content/drive/MyDrive/Data/Flag/ejo7fczqfrllp...   Flag\n",
            "477  /content/drive/MyDrive/Data/Flag/bandiera-ital...   Flag\n",
            "478  /content/drive/MyDrive/Data/Flag/Dansk2520flag...   Flag\n",
            "479  /content/drive/MyDrive/Data/Flag/flag_10701087...   Flag\n",
            "\n",
            "[480 rows x 2 columns]\n"
          ]
        }
      ],
      "source": [
        "class_indices = train_generator.class_indices\n",
        "print(class_indices)\n",
        "\n",
        "step_size_train = train_generator.n // train_generator.batch_size\n",
        "step_size_valid = valid_generator.n // valid_generator.batch_size\n",
        "\n",
        "print(dataframe)"
      ]
    },
    {
      "cell_type": "code",
      "execution_count": 11,
      "metadata": {
        "id": "6GAAW493ESKa",
        "colab": {
          "base_uri": "https://localhost:8080/"
        },
        "outputId": "20dd03cc-285f-4980-d97e-1df31ac90f7c"
      },
      "outputs": [
        {
          "output_type": "stream",
          "name": "stdout",
          "text": [
            "Downloading data from https://storage.googleapis.com/tensorflow/keras-applications/densenet/densenet121_weights_tf_dim_ordering_tf_kernels_notop.h5\n",
            "29084464/29084464 [==============================] - 0s 0us/step\n"
          ]
        }
      ],
      "source": [
        "base_model = DenseNet121(\n",
        "    weights='imagenet',\n",
        "    include_top=False,\n",
        "    input_shape=(150,150,3) ,\n",
        "    classes=4\n",
        ")"
      ]
    },
    {
      "cell_type": "code",
      "execution_count": 12,
      "metadata": {
        "id": "VfxnHiLLEWBS"
      },
      "outputs": [],
      "source": [
        "for layer in base_model.layers:\n",
        "    layer.trainable = False\n",
        "model = Sequential()\n",
        "model.add(base_model)\n",
        "model.add(Flatten())\n",
        "\n",
        "model.add(Dense(1024, activation='relu'))\n",
        "model.add(Dropout(0.5))\n",
        "model.add(Dense(1024, activation='relu'))\n",
        "model.add(Dropout(0.3))\n",
        "model.add(Dense(512, activation='relu'))\n",
        "\n",
        "model.add(Dense(128, activation='relu'))\n",
        "model.add(Dense(4, activation='softmax'))"
      ]
    },
    {
      "cell_type": "code",
      "execution_count": 13,
      "metadata": {
        "id": "PfoKILMDEgUM"
      },
      "outputs": [],
      "source": [
        "checkpoint_path = \"/content/drive/MyDrive/Data/bestmodel.hdf5.h5\"\n",
        "checkpoint = ModelCheckpoint(\n",
        "    checkpoint_path,\n",
        "    monitor='val_accuracy',\n",
        "    save_best_only=True,\n",
        "    mode='max',\n",
        "    verbose=1\n",
        ")\n"
      ]
    },
    {
      "cell_type": "code",
      "execution_count": 14,
      "metadata": {
        "id": "40SoPup2EqqY"
      },
      "outputs": [],
      "source": [
        "model.compile(optimizer='adam',\n",
        "              loss='categorical_crossentropy',\n",
        "              metrics=['accuracy'])"
      ]
    },
    {
      "cell_type": "code",
      "execution_count": 15,
      "metadata": {
        "id": "Ah1Bmk8VIS9F",
        "colab": {
          "base_uri": "https://localhost:8080/"
        },
        "outputId": "938624f4-9663-4f94-8027-95b713934d59"
      },
      "outputs": [
        {
          "output_type": "stream",
          "name": "stdout",
          "text": [
            "Shape of train labels: (371,)\n",
            "Shape of validation labels: (44,)\n",
            "Model: \"sequential\"\n",
            "_________________________________________________________________\n",
            " Layer (type)                Output Shape              Param #   \n",
            "=================================================================\n",
            " densenet121 (Functional)    (None, 4, 4, 1024)        7037504   \n",
            "                                                                 \n",
            " flatten (Flatten)           (None, 16384)             0         \n",
            "                                                                 \n",
            " dense (Dense)               (None, 1024)              16778240  \n",
            "                                                                 \n",
            " dropout (Dropout)           (None, 1024)              0         \n",
            "                                                                 \n",
            " dense_1 (Dense)             (None, 1024)              1049600   \n",
            "                                                                 \n",
            " dropout_1 (Dropout)         (None, 1024)              0         \n",
            "                                                                 \n",
            " dense_2 (Dense)             (None, 512)               524800    \n",
            "                                                                 \n",
            " dense_3 (Dense)             (None, 128)               65664     \n",
            "                                                                 \n",
            " dense_4 (Dense)             (None, 4)                 516       \n",
            "                                                                 \n",
            "=================================================================\n",
            "Total params: 25456324 (97.11 MB)\n",
            "Trainable params: 18418820 (70.26 MB)\n",
            "Non-trainable params: 7037504 (26.85 MB)\n",
            "_________________________________________________________________\n"
          ]
        }
      ],
      "source": [
        "# Convert labels to numpy arrays\n",
        "train_labels_array = np.array(train_generator.labels)\n",
        "valid_labels_array = np.array(valid_generator.labels)\n",
        "\n",
        "# Check label encoding\n",
        "print(\"Shape of train labels:\", train_labels_array.shape)\n",
        "print(\"Shape of validation labels:\", valid_labels_array.shape)\n",
        "\n",
        "# Check model output configuration\n",
        "model.summary()\n"
      ]
    },
    {
      "cell_type": "code",
      "execution_count": 16,
      "metadata": {
        "id": "4Hq9Cj4GIati",
        "colab": {
          "base_uri": "https://localhost:8080/"
        },
        "outputId": "e8b2e439-fb6b-47f7-ff93-5c8a43440d01"
      },
      "outputs": [
        {
          "output_type": "stream",
          "name": "stdout",
          "text": [
            "Number of classes: 4\n",
            "Shape of batch labels: (16, 4)\n",
            "Example labels: [[0. 0. 0. 1.]\n",
            " [0. 0. 0. 1.]\n",
            " [0. 0. 0. 1.]\n",
            " [0. 0. 1. 0.]\n",
            " [0. 0. 0. 1.]]\n"
          ]
        }
      ],
      "source": [
        "# Check number of unique classes in your dataset\n",
        "num_classes = len(train_generator.class_indices)\n",
        "print(\"Number of classes:\", num_classes)\n",
        "\n",
        "x_batch, y_batch = next(train_generator)\n",
        "print(\"Shape of batch labels:\", y_batch.shape)\n",
        "\n",
        "print(\"Example labels:\", y_batch[:5])\n"
      ]
    },
    {
      "cell_type": "code",
      "execution_count": 17,
      "metadata": {
        "id": "BUwkjys2EtHF",
        "colab": {
          "base_uri": "https://localhost:8080/"
        },
        "outputId": "22a2aa57-f34e-41d9-ce84-de3178ca868d"
      },
      "outputs": [
        {
          "output_type": "stream",
          "name": "stdout",
          "text": [
            "Epoch 1/10\n",
            " 6/23 [======>.......................] - ETA: 34s - loss: 9.0483 - accuracy: 0.6145"
          ]
        },
        {
          "output_type": "stream",
          "name": "stderr",
          "text": [
            "/usr/local/lib/python3.10/dist-packages/PIL/Image.py:996: UserWarning: Palette images with Transparency expressed in bytes should be converted to RGBA images\n",
            "  warnings.warn(\n"
          ]
        },
        {
          "output_type": "stream",
          "name": "stdout",
          "text": [
            "23/23 [==============================] - ETA: 0s - loss: 6.3743 - accuracy: 0.5859\n",
            "Epoch 1: val_accuracy improved from -inf to 0.68750, saving model to /content/drive/MyDrive/Data/bestmodel.hdf5.h5\n"
          ]
        },
        {
          "output_type": "stream",
          "name": "stderr",
          "text": [
            "/usr/local/lib/python3.10/dist-packages/keras/src/engine/training.py:3103: UserWarning: You are saving your model as an HDF5 file via `model.save()`. This file format is considered legacy. We recommend using instead the native Keras format, e.g. `model.save('my_model.keras')`.\n",
            "  saving_api.save_model(\n"
          ]
        },
        {
          "output_type": "stream",
          "name": "stdout",
          "text": [
            "\b\b\b\b\b\b\b\b\b\b\b\b\b\b\b\b\b\b\b\b\b\b\b\b\b\b\b\b\b\b\b\b\b\b\b\b\b\b\b\b\b\b\b\b\b\b\b\b\b\b\b\b\b\b\b\b\b\b\b\b\b\b\b\b\b\b\b\b\b\b\b\b\b\b\b\b\b\b\b\b\b\b\r23/23 [==============================] - 79s 3s/step - loss: 6.3743 - accuracy: 0.5859 - val_loss: 1.0516 - val_accuracy: 0.6875\n",
            "Epoch 2/10\n",
            "23/23 [==============================] - ETA: 0s - loss: 0.7839 - accuracy: 0.8028\n",
            "Epoch 2: val_accuracy improved from 0.68750 to 1.00000, saving model to /content/drive/MyDrive/Data/bestmodel.hdf5.h5\n",
            "23/23 [==============================] - 40s 2s/step - loss: 0.7839 - accuracy: 0.8028 - val_loss: 0.0703 - val_accuracy: 1.0000\n",
            "Epoch 3/10\n",
            "23/23 [==============================] - ETA: 0s - loss: 0.2356 - accuracy: 0.9042\n",
            "Epoch 3: val_accuracy did not improve from 1.00000\n",
            "23/23 [==============================] - 43s 2s/step - loss: 0.2356 - accuracy: 0.9042 - val_loss: 0.2414 - val_accuracy: 0.9375\n",
            "Epoch 4/10\n",
            "23/23 [==============================] - ETA: 0s - loss: 0.2726 - accuracy: 0.9324\n",
            "Epoch 4: val_accuracy did not improve from 1.00000\n",
            "23/23 [==============================] - 35s 2s/step - loss: 0.2726 - accuracy: 0.9324 - val_loss: 0.0226 - val_accuracy: 1.0000\n",
            "Epoch 5/10\n",
            "23/23 [==============================] - ETA: 0s - loss: 0.1482 - accuracy: 0.9606\n",
            "Epoch 5: val_accuracy did not improve from 1.00000\n",
            "23/23 [==============================] - 36s 2s/step - loss: 0.1482 - accuracy: 0.9606 - val_loss: 0.0033 - val_accuracy: 1.0000\n",
            "Epoch 6/10\n",
            "23/23 [==============================] - ETA: 0s - loss: 0.0856 - accuracy: 0.9634\n",
            "Epoch 6: val_accuracy did not improve from 1.00000\n",
            "23/23 [==============================] - 38s 2s/step - loss: 0.0856 - accuracy: 0.9634 - val_loss: 0.1495 - val_accuracy: 0.9688\n",
            "Epoch 7/10\n",
            "23/23 [==============================] - ETA: 0s - loss: 0.0827 - accuracy: 0.9718\n",
            "Epoch 7: val_accuracy did not improve from 1.00000\n",
            "23/23 [==============================] - 34s 1s/step - loss: 0.0827 - accuracy: 0.9718 - val_loss: 0.0578 - val_accuracy: 0.9688\n",
            "Epoch 8/10\n",
            "23/23 [==============================] - ETA: 0s - loss: 0.0702 - accuracy: 0.9803\n",
            "Epoch 8: val_accuracy did not improve from 1.00000\n",
            "23/23 [==============================] - 36s 2s/step - loss: 0.0702 - accuracy: 0.9803 - val_loss: 0.1170 - val_accuracy: 0.9375\n",
            "Epoch 9/10\n",
            "23/23 [==============================] - ETA: 0s - loss: 0.0781 - accuracy: 0.9718\n",
            "Epoch 9: val_accuracy did not improve from 1.00000\n",
            "23/23 [==============================] - 39s 2s/step - loss: 0.0781 - accuracy: 0.9718 - val_loss: 1.5792e-04 - val_accuracy: 1.0000\n",
            "Epoch 10/10\n",
            "23/23 [==============================] - ETA: 0s - loss: 0.0668 - accuracy: 0.9718\n",
            "Epoch 10: val_accuracy did not improve from 1.00000\n",
            "23/23 [==============================] - 44s 2s/step - loss: 0.0668 - accuracy: 0.9718 - val_loss: 0.0470 - val_accuracy: 0.9688\n"
          ]
        }
      ],
      "source": [
        "history = model.fit(\n",
        "    train_generator,\n",
        "    steps_per_epoch=train_generator.samples // train_generator.batch_size,\n",
        "    epochs=10,\n",
        "    validation_data=valid_generator,\n",
        "    validation_steps=valid_generator.samples // valid_generator.batch_size,\n",
        "    callbacks=[checkpoint]\n",
        ")"
      ]
    },
    {
      "cell_type": "code",
      "execution_count": 18,
      "metadata": {
        "id": "Hc72x4YxILKx",
        "colab": {
          "base_uri": "https://localhost:8080/",
          "height": 478
        },
        "outputId": "12c17c7e-8514-4962-92a1-afd9822b622f"
      },
      "outputs": [
        {
          "output_type": "display_data",
          "data": {
            "text/plain": [
              "<Figure size 640x480 with 1 Axes>"
            ],
            "image/png": "[encoded data removed]"
          },
          "metadata": {}
        }
      ],
      "source": [
        "fig = plt.figure()\n",
        "plt.plot(history.history['loss'], color='red', label='loss')\n",
        "plt.plot(history.history['val_loss'], color='teal', label='val_loss')\n",
        "fig.suptitle('Loss', fontsize=20)\n",
        "plt.legend()\n",
        "plt.show()"
      ]
    },
    {
      "cell_type": "code",
      "source": [
        "fig = plt.figure()\n",
        "plt.plot(history.history['accuracy'], color='red', label='accuracy')\n",
        "plt.plot(history.history['val_accuracy'], color='teal', label='val_accuracy')\n",
        "fig.suptitle('Accuracy', fontsize=20)\n",
        "plt.legend()\n",
        "plt.show()"
      ],
      "metadata": {
        "id": "bu1NK0NwNEQD",
        "colab": {
          "base_uri": "https://localhost:8080/",
          "height": 478
        },
        "outputId": "9c9eaffb-3f9f-4893-faf7-1f232705daf7"
      },
      "execution_count": 19,
      "outputs": [
        {
          "output_type": "display_data",
          "data": {
            "text/plain": [
              "<Figure size 640x480 with 1 Axes>"
            ],
            "image/png": "[encoded data removed]"
          },
          "metadata": {}
        }
      ]
    }
  ],
  "metadata": {
    "colab": {
      "provenance": [],
      "mount_file_id": "1PmRE_fLKcdpgs1ecC3OHjNvTC75UlmVH",
      "authorship_tag": "ABX9TyPRzuIOtXnOiW0buPpKgxAc",
      "include_colab_link": true
    },
    "kernelspec": {
      "display_name": "Python 3",
      "name": "python3"
    },
    "language_info": {
      "name": "python"
    }
  },
  "nbformat": 4,
  "nbformat_minor": 0
}